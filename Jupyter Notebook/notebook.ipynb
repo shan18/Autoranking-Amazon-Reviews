{
 "cells": [
  {
   "cell_type": "code",
   "execution_count": 1,
   "metadata": {
    "_cell_guid": "b488cd0f-4234-48eb-8412-649f9d66bf09",
    "_uuid": "dc5b90f507dd9b2a510cc59ba423ba908e7b4b08",
    "collapsed": true
   },
   "outputs": [],
   "source": [
    "import gzip\n",
    "import nltk\n",
    "import pandas as pd\n",
    "import numpy as np\n",
    "import matplotlib.pyplot as plt\n",
    "\n",
    "# from nltk.tokenize import word_tokenize, sent_tokenize\n",
    "from textblob import TextBlob\n",
    "from sklearn.feature_extraction.text import CountVectorizer\n",
    "from sklearn.feature_extraction.text import TfidfVectorizer\n",
    "from sklearn.linear_model import LinearRegression\n",
    "\n",
    "# If the nltk_data directory is at the default path then comment out the line below\n",
    "# otherwise set it to the desired location\n",
    "nltk.data.path.append('/home/shan/Packages/nltk_data')"
   ]
  },
  {
   "cell_type": "code",
   "execution_count": 2,
   "metadata": {
    "_cell_guid": "327c8e79-569a-4c65-888e-ac7e2eed54a8",
    "_uuid": "3f11f75c33d1039867c349f572b7a30da300dbce",
    "collapsed": true
   },
   "outputs": [],
   "source": [
    "# Extract and read the input file line by line\n",
    "def read_input_file(path):\n",
    "    g = gzip.open(path, 'rb')\n",
    "    for line in g:\n",
    "        yield eval(line)"
   ]
  },
  {
   "cell_type": "code",
   "execution_count": 3,
   "metadata": {
    "_cell_guid": "a169c017-d93e-40f7-9e74-c148b9032608",
    "_uuid": "09265821bfd7d74d706307df5057cec6eb36b844",
    "collapsed": true
   },
   "outputs": [],
   "source": [
    "# Store the data in input file in a dataframe\n",
    "def parse_input(path):\n",
    "    i = 0\n",
    "    df = {}\n",
    "    for d in read_input_file(path):\n",
    "        df[i] = d\n",
    "        i += 1\n",
    "    return pd.DataFrame.from_dict(df, orient='index')"
   ]
  },
  {
   "cell_type": "code",
   "execution_count": 4,
   "metadata": {
    "_cell_guid": "48edf9ad-422f-4824-9a0c-1907dd509bd7",
    "_uuid": "9eff54168a4cfe6adda71dbfddad401d52b99eae",
    "collapsed": true
   },
   "outputs": [],
   "source": [
    "# Preprocessing the input\n",
    "def preprocess_input(data):\n",
    "\n",
    "    # Merge summary and reviewText\n",
    "    data['review'] = data['summary'] + ' ' + data['reviewText']\n",
    "\n",
    "    # Separate out upvotes and downvotes from 'helpful'\n",
    "    votes = list(zip(*list(data['helpful'].values)))\n",
    "    data['upvotes'] = np.array(votes[0])\n",
    "    data['downvotes'] = np.array(votes[1])\n",
    "    \n",
    "    # Remove unnecessary features\n",
    "    del data['reviewTime'], data['unixReviewTime'], data['reviewerName'], data['summary'], data['reviewText'], data['helpful']\n",
    "\n",
    "    # Rearrange columns\n",
    "    data = data[['reviewerID', 'asin', 'overall', 'upvotes', 'downvotes', 'review']]\n",
    "    \n",
    "    return data"
   ]
  },
  {
   "cell_type": "code",
   "execution_count": 5,
   "metadata": {
    "_cell_guid": "66dc4467-4c05-4aaa-a2d4-90538054062e",
    "_uuid": "d7539b61503c3506ca315efd2550b71c938fb6e1",
    "collapsed": true
   },
   "outputs": [],
   "source": [
    "# Filtering the dataset\n",
    "def filter_input(data):\n",
    "    \n",
    "    # (1) Review should have atleast 5 votes\n",
    "    data.drop(data[data.upvotes + data.downvotes <= 5].index, inplace=True)\n",
    "\n",
    "    # (2) Each product should have more than 7 reviews\n",
    "    product_review_count = data['asin'].value_counts()\n",
    "    unpopular_products = product_review_count[product_review_count <= 7].index\n",
    "    data.drop(data[data['asin'].isin(unpopular_products)].index, inplace=True)\n",
    "    \n",
    "    return data"
   ]
  },
  {
   "cell_type": "code",
   "execution_count": 6,
   "metadata": {
    "_cell_guid": "9c73d780-3383-4b09-89e0-096620356535",
    "_uuid": "dd72864204b9655228a07103902543d4fd6f2142",
    "collapsed": true
   },
   "outputs": [],
   "source": [
    "# Textual Features\n",
    "def extract_textual_features(data):\n",
    "    \n",
    "    # m: total number of training examples\n",
    "    m = len(data['review'].values)\n",
    "    \n",
    "    # total number of characters\n",
    "    text_length = np.array(data['review'].str.len()).reshape((m, 1))\n",
    "    \n",
    "    # total number of alphabetical characters\n",
    "    character_count = np.array(\n",
    "        data['review'].replace(regex=True, to_replace=r'[^a-zA-Z]', value=r'').str.len()\n",
    "    ).reshape((m, 1))\n",
    "    \n",
    "    # the number of words, unique words, and sentences in the review text\n",
    "    sentence_count, word_count, unique_word_count = [], [], []\n",
    "    for review in data['review'].values:\n",
    "        # s = sent_tokenize(review)\n",
    "        # sentence_count.append(len(s))\n",
    "        text_blob = TextBlob(review)\n",
    "        word_count.append(len(text_blob.words))\n",
    "        unique_word_count.append(len(set(text_blob.words)))\n",
    "        sentence_count.append(len(text_blob.sentences))\n",
    "    word_count = np.array(word_count).reshape((m, 1))\n",
    "    unique_word_count = np.array(unique_word_count).reshape((m, 1))\n",
    "    sentence_count = np.array(sentence_count).reshape((m, 1))\n",
    "    \n",
    "    # Automated Readability Index\n",
    "    ARI = 4.71 * (character_count / word_count) + 0.5 * (word_count / sentence_count)\n",
    "    ARI = np.reshape(ARI, (m, 1))\n",
    "    \n",
    "    return np.concatenate(\n",
    "        (text_length, character_count, word_count, unique_word_count, sentence_count, ARI),\n",
    "        axis=1\n",
    "    )"
   ]
  },
  {
   "cell_type": "code",
   "execution_count": 7,
   "metadata": {
    "_cell_guid": "cee16291-5451-4ee0-89ba-e104b5282184",
    "_uuid": "dfaf3d92b164a695b0ec0a65f2a1825227b43252",
    "collapsed": true
   },
   "outputs": [],
   "source": [
    "# Metadata Features\n",
    "def extract_metadata_features(data):\n",
    "    \n",
    "    # m: total number of training examples\n",
    "    m = len(data['overall'].values)\n",
    "    \n",
    "    # overall rating, the user gave to the product\n",
    "    rating = np.array(data['overall'].values).reshape((m, 1))\n",
    "    \n",
    "    return rating"
   ]
  },
  {
   "cell_type": "code",
   "execution_count": 8,
   "metadata": {
    "_cell_guid": "42605b72-c841-4f51-815b-b753c4ad7828",
    "_uuid": "03e9dbc7bf232b9f430c180e2b9793f12ab5fef7",
    "collapsed": true
   },
   "outputs": [],
   "source": [
    "# Create bag of words\n",
    "def create_bag_of_words(data):\n",
    "    \n",
    "    # Construct a bag of words matrix (Considering only the top 1000 words)\n",
    "    vectorizer = CountVectorizer(lowercase=True, stop_words=\"english\", max_features=1000)\n",
    "    matrix = vectorizer.fit_transform(np.array(data['review'].values))\n",
    "    \n",
    "    return matrix.todense()\n",
    "\n",
    "# Bag of Words matrix\n",
    "# bow = create_bag_of_words(pd.concat([df_train, df_test]))"
   ]
  },
  {
   "cell_type": "code",
   "execution_count": 9,
   "metadata": {
    "_cell_guid": "d68f5884-6f80-4923-b8fb-def219bf714d",
    "_uuid": "88840f6fe1a92ef3f879bf64f67e3fb92278a11c",
    "collapsed": true
   },
   "outputs": [],
   "source": [
    "# Create tf-idf representation of the review text\n",
    "def create_tf_idf_vector(data):\n",
    "    \n",
    "    # Construct a tf-idf matrix\n",
    "    vectorizer = TfidfVectorizer(lowercase=True, stop_words='english')\n",
    "    matrix = vectorizer.fit_transform(data['review'].values)\n",
    "    \n",
    "    return matrix.todense()\n",
    "\n",
    "# tf-idf matrix\n",
    "# matrix = create_tf_idf_vector(pd.concat([df_train, df_test]))"
   ]
  },
  {
   "cell_type": "code",
   "execution_count": 10,
   "metadata": {
    "_cell_guid": "b6496285-fb6d-4ffb-8b9d-de9c0f1a38f8",
    "_uuid": "03f4ee3f4025ad3a48db6c8b84564fa38859142a",
    "collapsed": true
   },
   "outputs": [],
   "source": [
    "# Create the feature vector and the result vector\n",
    "def get_xy_vectors(data):\n",
    "    \n",
    "    # Constructing feature vector\n",
    "    X = np.concatenate(\n",
    "        (extract_textual_features(data), extract_metadata_features(data)),\n",
    "        axis = 1\n",
    "    )\n",
    "    \n",
    "    # m: total number of training examples\n",
    "    m = X.shape[0]\n",
    "    \n",
    "    # Set the outcome variable (Denotes helpfulness of a review)\n",
    "    upvotes = np.array(data['upvotes'].values).reshape((m, 1))\n",
    "    downvotes = np.array(data['downvotes'].values).reshape((m, 1))\n",
    "    Y = upvotes / (upvotes + downvotes)\n",
    "    \n",
    "    return X, Y"
   ]
  },
  {
   "cell_type": "code",
   "execution_count": 11,
   "metadata": {
    "_cell_guid": "943c2f14-eef5-4011-a46a-085b652b05be",
    "_uuid": "676b62dba4a64e1830e83854aa01920209d0d7ca",
    "collapsed": true
   },
   "outputs": [],
   "source": [
    "# Read from input file and store the contents in a dataframe\n",
    "INPUT_FILE = 'reviews_Video_Games_5.json.gz'\n",
    "df = parse_input(INPUT_FILE)"
   ]
  },
  {
   "cell_type": "code",
   "execution_count": 12,
   "metadata": {
    "_cell_guid": "02678099-e901-422a-9f41-44f8790e3ff5",
    "_kg_hide-output": true,
    "_uuid": "6f05d26218e20919fcfd3a81117ab689602aae1b"
   },
   "outputs": [
    {
     "data": {
      "text/html": [
       "<div>\n",
       "<style>\n",
       "    .dataframe thead tr:only-child th {\n",
       "        text-align: right;\n",
       "    }\n",
       "\n",
       "    .dataframe thead th {\n",
       "        text-align: left;\n",
       "    }\n",
       "\n",
       "    .dataframe tbody tr th {\n",
       "        vertical-align: top;\n",
       "    }\n",
       "</style>\n",
       "<table border=\"1\" class=\"dataframe\">\n",
       "  <thead>\n",
       "    <tr style=\"text-align: right;\">\n",
       "      <th></th>\n",
       "      <th>reviewerID</th>\n",
       "      <th>asin</th>\n",
       "      <th>reviewerName</th>\n",
       "      <th>helpful</th>\n",
       "      <th>reviewText</th>\n",
       "      <th>overall</th>\n",
       "      <th>summary</th>\n",
       "      <th>unixReviewTime</th>\n",
       "      <th>reviewTime</th>\n",
       "    </tr>\n",
       "  </thead>\n",
       "  <tbody>\n",
       "    <tr>\n",
       "      <th>0</th>\n",
       "      <td>A2HD75EMZR8QLN</td>\n",
       "      <td>0700099867</td>\n",
       "      <td>123</td>\n",
       "      <td>[8, 12]</td>\n",
       "      <td>Installing the game was a struggle (because of...</td>\n",
       "      <td>1.0</td>\n",
       "      <td>Pay to unlock content? I don't think so.</td>\n",
       "      <td>1341792000</td>\n",
       "      <td>07 9, 2012</td>\n",
       "    </tr>\n",
       "    <tr>\n",
       "      <th>1</th>\n",
       "      <td>A3UR8NLLY1ZHCX</td>\n",
       "      <td>0700099867</td>\n",
       "      <td>Alejandro Henao \"Electronic Junky\"</td>\n",
       "      <td>[0, 0]</td>\n",
       "      <td>If you like rally cars get this game you will ...</td>\n",
       "      <td>4.0</td>\n",
       "      <td>Good rally game</td>\n",
       "      <td>1372550400</td>\n",
       "      <td>06 30, 2013</td>\n",
       "    </tr>\n",
       "    <tr>\n",
       "      <th>2</th>\n",
       "      <td>A1INA0F5CWW3J4</td>\n",
       "      <td>0700099867</td>\n",
       "      <td>Amazon Shopper \"Mr.Repsol\"</td>\n",
       "      <td>[0, 0]</td>\n",
       "      <td>1st shipment received a book instead of the ga...</td>\n",
       "      <td>1.0</td>\n",
       "      <td>Wrong key</td>\n",
       "      <td>1403913600</td>\n",
       "      <td>06 28, 2014</td>\n",
       "    </tr>\n",
       "    <tr>\n",
       "      <th>3</th>\n",
       "      <td>A1DLMTOTHQ4AST</td>\n",
       "      <td>0700099867</td>\n",
       "      <td>ampgreen</td>\n",
       "      <td>[7, 10]</td>\n",
       "      <td>I got this version instead of the PS3 version,...</td>\n",
       "      <td>3.0</td>\n",
       "      <td>awesome game, if it did not crash frequently !!</td>\n",
       "      <td>1315958400</td>\n",
       "      <td>09 14, 2011</td>\n",
       "    </tr>\n",
       "    <tr>\n",
       "      <th>4</th>\n",
       "      <td>A361M14PU2GUEG</td>\n",
       "      <td>0700099867</td>\n",
       "      <td>Angry Ryan \"Ryan A. Forrest\"</td>\n",
       "      <td>[2, 2]</td>\n",
       "      <td>I had Dirt 2 on Xbox 360 and it was an okay ga...</td>\n",
       "      <td>4.0</td>\n",
       "      <td>DIRT 3</td>\n",
       "      <td>1308009600</td>\n",
       "      <td>06 14, 2011</td>\n",
       "    </tr>\n",
       "  </tbody>\n",
       "</table>\n",
       "</div>"
      ],
      "text/plain": [
       "       reviewerID        asin                        reviewerName  helpful  \\\n",
       "0  A2HD75EMZR8QLN  0700099867                                 123  [8, 12]   \n",
       "1  A3UR8NLLY1ZHCX  0700099867  Alejandro Henao \"Electronic Junky\"   [0, 0]   \n",
       "2  A1INA0F5CWW3J4  0700099867          Amazon Shopper \"Mr.Repsol\"   [0, 0]   \n",
       "3  A1DLMTOTHQ4AST  0700099867                            ampgreen  [7, 10]   \n",
       "4  A361M14PU2GUEG  0700099867        Angry Ryan \"Ryan A. Forrest\"   [2, 2]   \n",
       "\n",
       "                                          reviewText  overall  \\\n",
       "0  Installing the game was a struggle (because of...      1.0   \n",
       "1  If you like rally cars get this game you will ...      4.0   \n",
       "2  1st shipment received a book instead of the ga...      1.0   \n",
       "3  I got this version instead of the PS3 version,...      3.0   \n",
       "4  I had Dirt 2 on Xbox 360 and it was an okay ga...      4.0   \n",
       "\n",
       "                                           summary  unixReviewTime  \\\n",
       "0         Pay to unlock content? I don't think so.      1341792000   \n",
       "1                                  Good rally game      1372550400   \n",
       "2                                        Wrong key      1403913600   \n",
       "3  awesome game, if it did not crash frequently !!      1315958400   \n",
       "4                                           DIRT 3      1308009600   \n",
       "\n",
       "    reviewTime  \n",
       "0   07 9, 2012  \n",
       "1  06 30, 2013  \n",
       "2  06 28, 2014  \n",
       "3  09 14, 2011  \n",
       "4  06 14, 2011  "
      ]
     },
     "execution_count": 12,
     "metadata": {},
     "output_type": "execute_result"
    }
   ],
   "source": [
    "df.head()"
   ]
  },
  {
   "cell_type": "code",
   "execution_count": 13,
   "metadata": {
    "_cell_guid": "924f07f7-9990-4699-bf72-f8129d8badb1",
    "_kg_hide-output": true,
    "_uuid": "925a3e7b0d681260de29a5891980a463cd826115"
   },
   "outputs": [
    {
     "data": {
      "text/html": [
       "<div>\n",
       "<style>\n",
       "    .dataframe thead tr:only-child th {\n",
       "        text-align: right;\n",
       "    }\n",
       "\n",
       "    .dataframe thead th {\n",
       "        text-align: left;\n",
       "    }\n",
       "\n",
       "    .dataframe tbody tr th {\n",
       "        vertical-align: top;\n",
       "    }\n",
       "</style>\n",
       "<table border=\"1\" class=\"dataframe\">\n",
       "  <thead>\n",
       "    <tr style=\"text-align: right;\">\n",
       "      <th></th>\n",
       "      <th>reviewerID</th>\n",
       "      <th>asin</th>\n",
       "      <th>overall</th>\n",
       "      <th>upvotes</th>\n",
       "      <th>downvotes</th>\n",
       "      <th>review</th>\n",
       "    </tr>\n",
       "  </thead>\n",
       "  <tbody>\n",
       "    <tr>\n",
       "      <th>0</th>\n",
       "      <td>A2HD75EMZR8QLN</td>\n",
       "      <td>0700099867</td>\n",
       "      <td>1.0</td>\n",
       "      <td>8</td>\n",
       "      <td>12</td>\n",
       "      <td>Pay to unlock content? I don't think so. Insta...</td>\n",
       "    </tr>\n",
       "    <tr>\n",
       "      <th>3</th>\n",
       "      <td>A1DLMTOTHQ4AST</td>\n",
       "      <td>0700099867</td>\n",
       "      <td>3.0</td>\n",
       "      <td>7</td>\n",
       "      <td>10</td>\n",
       "      <td>awesome game, if it did not crash frequently !...</td>\n",
       "    </tr>\n",
       "    <tr>\n",
       "      <th>6</th>\n",
       "      <td>AN3YYDZAS3O1Y</td>\n",
       "      <td>0700099867</td>\n",
       "      <td>5.0</td>\n",
       "      <td>11</td>\n",
       "      <td>13</td>\n",
       "      <td>A step up from Dirt 2 and that is terrific! Lo...</td>\n",
       "    </tr>\n",
       "    <tr>\n",
       "      <th>18</th>\n",
       "      <td>A10AYT89XSCE46</td>\n",
       "      <td>0700099867</td>\n",
       "      <td>1.0</td>\n",
       "      <td>2</td>\n",
       "      <td>5</td>\n",
       "      <td>Colin McRae CRASH 3! This game is bug landFirs...</td>\n",
       "    </tr>\n",
       "    <tr>\n",
       "      <th>19</th>\n",
       "      <td>A29KT7UP7DLM1J</td>\n",
       "      <td>0700099867</td>\n",
       "      <td>1.0</td>\n",
       "      <td>3</td>\n",
       "      <td>3</td>\n",
       "      <td>The first one was much better. DiRT 2 was like...</td>\n",
       "    </tr>\n",
       "  </tbody>\n",
       "</table>\n",
       "</div>"
      ],
      "text/plain": [
       "        reviewerID        asin  overall  upvotes  downvotes  \\\n",
       "0   A2HD75EMZR8QLN  0700099867      1.0        8         12   \n",
       "3   A1DLMTOTHQ4AST  0700099867      3.0        7         10   \n",
       "6    AN3YYDZAS3O1Y  0700099867      5.0       11         13   \n",
       "18  A10AYT89XSCE46  0700099867      1.0        2          5   \n",
       "19  A29KT7UP7DLM1J  0700099867      1.0        3          3   \n",
       "\n",
       "                                               review  \n",
       "0   Pay to unlock content? I don't think so. Insta...  \n",
       "3   awesome game, if it did not crash frequently !...  \n",
       "6   A step up from Dirt 2 and that is terrific! Lo...  \n",
       "18  Colin McRae CRASH 3! This game is bug landFirs...  \n",
       "19  The first one was much better. DiRT 2 was like...  "
      ]
     },
     "execution_count": 13,
     "metadata": {},
     "output_type": "execute_result"
    }
   ],
   "source": [
    "# Remove unecessary data from the dataset\n",
    "df = preprocess_input(df)\n",
    "df = filter_input(df)\n",
    "df.head()"
   ]
  },
  {
   "cell_type": "code",
   "execution_count": 14,
   "metadata": {
    "_cell_guid": "a05864a6-cf5b-4278-b29e-73f73f6ce5a4",
    "_uuid": "20511d8cd00cf2b1cf9590ea8a924d982e8282e4",
    "collapsed": true
   },
   "outputs": [],
   "source": [
    "# Separate data into training set and test set\n",
    "df_train = df.sample(frac=0.8)\n",
    "df_test = df.loc[~df.index.isin(df_train.index)]"
   ]
  },
  {
   "cell_type": "code",
   "execution_count": 15,
   "metadata": {
    "_cell_guid": "81153668-89fb-487b-9c3b-6e660d759279",
    "_uuid": "dd46bc5f5fcab49e9762f7167e22f6b5c55a021b",
    "collapsed": true
   },
   "outputs": [],
   "source": [
    "# X_train: Input vector for the training set\n",
    "# Y_train: Vector containing the results of the training set\n",
    "X_train, Y_train = get_xy_vectors(df_train)\n",
    "\n",
    "# X_test: Input vector for the test set\n",
    "# Y_test: Vector containing the results of the test set\n",
    "X_test, Y_test = get_xy_vectors(df_test)"
   ]
  },
  {
   "cell_type": "code",
   "execution_count": 16,
   "metadata": {
    "_uuid": "a1eefea11f8340704f03305d30e687400ac6a976",
    "collapsed": true
   },
   "outputs": [],
   "source": [
    "# Bag of Words matrix\n",
    "bow = create_bag_of_words(pd.concat([df_train, df_test]))"
   ]
  },
  {
   "cell_type": "code",
   "execution_count": 17,
   "metadata": {
    "_cell_guid": "180a605c-33d4-4f03-ac03-b41ecae53ca3",
    "_uuid": "b5d6a2ff0672aed181de240b8d9d9755733cc522",
    "collapsed": true
   },
   "outputs": [],
   "source": [
    "# Merge the bag of words matrix with the feature vectors\n",
    "k = X_train.shape[0]\n",
    "\n",
    "X_train1 = np.concatenate(\n",
    "    (X_train, bow[:k, :]),\n",
    "    axis=1\n",
    ")\n",
    "\n",
    "X_test1 = np.concatenate(\n",
    "    (X_test, bow[k:, :]),\n",
    "    axis=1\n",
    ")"
   ]
  },
  {
   "cell_type": "code",
   "execution_count": 18,
   "metadata": {
    "_cell_guid": "7291ed9a-a317-4f36-b5d2-0658deb93a31",
    "_uuid": "0ac5c951a1adfc8d1c15ee1582b5413798bdca22"
   },
   "outputs": [
    {
     "name": "stdout",
     "output_type": "stream",
     "text": [
      "Dimensions of training set vectors:\n",
      "X:  (35012, 1007)\n",
      "Y:  (35012, 1)\n",
      "\n",
      "Dimensions of test set vectors:\n",
      "X:  (8753, 1007)\n",
      "Y:  (8753, 1)\n"
     ]
    }
   ],
   "source": [
    "print('Dimensions of training set vectors:')\n",
    "print('X: ', X_train1.shape)\n",
    "print('Y: ', Y_train.shape)\n",
    "\n",
    "print('\\nDimensions of test set vectors:')\n",
    "print('X: ', X_test1.shape)\n",
    "print('Y: ', Y_test.shape)"
   ]
  },
  {
   "cell_type": "code",
   "execution_count": 19,
   "metadata": {
    "_cell_guid": "c22f1c12-4385-44b6-b070-cc617c449516",
    "_kg_hide-output": true,
    "_uuid": "f84063b719a340ef4b73a35a782cc69772763ebf"
   },
   "outputs": [
    {
     "data": {
      "image/png": "[encoded data removed]",
      "text/plain": [
       "<matplotlib.figure.Figure at 0x7fe3dc17abe0>"
      ]
     },
     "metadata": {},
     "output_type": "display_data"
    }
   ],
   "source": [
    "# Vizualizing the distribution of helpfulness score across the data\n",
    "plt.hist(Y_train, ec='black')\n",
    "plt.xlabel('Helpfulness Score')\n",
    "plt.show()"
   ]
  },
  {
   "cell_type": "code",
   "execution_count": 20,
   "metadata": {
    "_cell_guid": "da7a685b-33ed-46b7-9322-fbca2e40b6fe",
    "_uuid": "c225c3c63500bb91798a456cca140f1443ec8b0b"
   },
   "outputs": [
    {
     "data": {
      "text/plain": [
       "LinearRegression(copy_X=True, fit_intercept=True, n_jobs=1, normalize=False)"
      ]
     },
     "execution_count": 20,
     "metadata": {},
     "output_type": "execute_result"
    }
   ],
   "source": [
    "linear_model = LinearRegression()\n",
    "linear_model.fit(X_train1, Y_train)"
   ]
  },
  {
   "cell_type": "code",
   "execution_count": 21,
   "metadata": {
    "_cell_guid": "4bf2a221-be89-4096-8e28-1c7405a17baf",
    "_uuid": "a5cdae0d7da8865654fde064fe533cdc58890648",
    "collapsed": true
   },
   "outputs": [],
   "source": [
    "Y_pred = linear_model.predict(X_test1)"
   ]
  },
  {
   "cell_type": "code",
   "execution_count": 22,
   "metadata": {
    "_cell_guid": "c0d24b61-7ca4-4004-843f-0858518e2fb9",
    "_uuid": "1f7b33d745151fd460ebd94e6f00fb880519d731"
   },
   "outputs": [
    {
     "data": {
      "text/plain": [
       "0.25836404914688138"
      ]
     },
     "execution_count": 22,
     "metadata": {},
     "output_type": "execute_result"
    }
   ],
   "source": [
    "linear_model.score(X_test1, Y_test)"
   ]
  },
  {
   "cell_type": "code",
   "execution_count": null,
   "metadata": {
    "_cell_guid": "de4bd995-b695-4f18-86a9-92b857c7e041",
    "_uuid": "b5108855ffbcc6121797ae060a52158bcb037d18",
    "collapsed": true
   },
   "outputs": [],
   "source": []
  }
 ],
 "metadata": {
  "kernelspec": {
   "display_name": "Python 3",
   "language": "python",
   "name": "python3"
  },
  "language_info": {
   "codemirror_mode": {
    "name": "ipython",
    "version": 3
   },
   "file_extension": ".py",
   "mimetype": "text/x-python",
   "name": "python",
   "nbconvert_exporter": "python",
   "pygments_lexer": "ipython3",
   "version": "3.6.3"
  }
 },
 "nbformat": 4,
 "nbformat_minor": 1
}
